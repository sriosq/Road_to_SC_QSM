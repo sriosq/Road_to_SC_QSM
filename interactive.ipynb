{
 "cells": [
  {
   "cell_type": "code",
   "execution_count": 5,
   "metadata": {},
   "outputs": [],
   "source": [
    "from functions import computed_Bz\n",
    "import numpy as np\n",
    "from matplotlib import pyplot as plt\n",
    "from ipywidgets import interact, IntSlider"
   ]
  },
  {
   "cell_type": "code",
   "execution_count": 6,
   "metadata": {},
   "outputs": [
    {
     "data": {
      "application/vnd.jupyter.widget-view+json": {
       "model_id": "1e37291d82764c479915bca5bcc62234",
       "version_major": 2,
       "version_minor": 0
      },
      "text/plain": [
       "interactive(children=(IntSlider(value=98, description='Slice', max=199, step=2), Output()), _dom_classes=('wid…"
      ]
     },
     "metadata": {},
     "output_type": "display_data"
    },
    {
     "data": {
      "text/plain": [
       "<function __main__.plot_Bz(Slice)>"
      ]
     },
     "execution_count": 6,
     "metadata": {},
     "output_type": "execute_result"
    }
   ],
   "source": [
    "from phantominator import shepp_logan\n",
    "\n",
    "sus_dist = shepp_logan((200, 200, 200))\n",
    "sus_dist[np.isclose(sus_dist, 0.2)] = -9\n",
    "\n",
    "vmin = np.min(sus_dist)\n",
    "vmax = np.max(sus_dist)\n",
    "\n",
    "maximum = len(sus_dist)\n",
    "\n",
    "def plot_Bz(Slice):\n",
    "    plt.figure(figsize=(8, 6))\n",
    "    plt.pcolormesh(sus_dist[Slice,:,:], vmin=vmin, vmax=vmax)\n",
    "    plt.colorbar(label='Susceptibility')\n",
    "    plt.xlabel(\"Z axis\")\n",
    "    plt.ylabel(\"Y axis\")\n",
    "    plt.show()\n",
    "\n",
    "interact(plot_Bz, Slice=(0,maximum-1,2))"
   ]
  },
  {
   "cell_type": "code",
   "execution_count": 7,
   "metadata": {},
   "outputs": [],
   "source": [
    "matrix = np.array(sus_dist.shape)\n",
    "image_res = np.array([1,1,1])\n",
    "buffer = 2\n",
    "\n",
    "calculated_Bz = computed_Bz(matrix, image_res, sus_dist, buffer)"
   ]
  },
  {
   "cell_type": "code",
   "execution_count": 8,
   "metadata": {},
   "outputs": [
    {
     "data": {
      "application/vnd.jupyter.widget-view+json": {
       "model_id": "2db9ea276f204e04817ab77374f1d249",
       "version_major": 2,
       "version_minor": 0
      },
      "text/plain": [
       "interactive(children=(IntSlider(value=98, description='Slice', max=199, step=2), Output()), _dom_classes=('wid…"
      ]
     },
     "metadata": {},
     "output_type": "display_data"
    },
    {
     "data": {
      "text/plain": [
       "<function __main__.plot_Bz(Slice)>"
      ]
     },
     "execution_count": 8,
     "metadata": {},
     "output_type": "execute_result"
    }
   ],
   "source": [
    "vmin = np.min(calculated_Bz)\n",
    "vmax = np.max(calculated_Bz)\n",
    "\n",
    "maximum = len(calculated_Bz)\n",
    "\n",
    "def plot_Bz(Slice):\n",
    "    plt.figure(dpi=120)\n",
    "    plt.pcolormesh(calculated_Bz[Slice,:,:], vmin=vmin, vmax=vmax)\n",
    "    plt.colorbar(label='Field variation [ppm]')\n",
    "    plt.xlabel(\"Z axis\")\n",
    "    plt.ylabel(\"Y axis\")\n",
    "    plt.show()\n",
    "\n",
    "interact(plot_Bz, Slice=(0,maximum-1,2))\n",
    "\n"
   ]
  }
 ],
 "metadata": {
  "kernelspec": {
   "display_name": "base",
   "language": "python",
   "name": "python3"
  },
  "language_info": {
   "codemirror_mode": {
    "name": "ipython",
    "version": 3
   },
   "file_extension": ".py",
   "mimetype": "text/x-python",
   "name": "python",
   "nbconvert_exporter": "python",
   "pygments_lexer": "ipython3",
   "version": "3.8.8"
  }
 },
 "nbformat": 4,
 "nbformat_minor": 2
}
