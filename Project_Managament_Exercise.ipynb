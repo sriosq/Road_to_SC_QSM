{
 "cells": [
  {
   "cell_type": "markdown",
   "id": "c1a16c4c",
   "metadata": {},
   "source": [
    "Exercise </br>\n",
    "Picking a license: \n",
    "\n",
    "First answer: MIT License\n",
    "Second answer: Attribution-NonCommercial-NoDerivs: CC BY-NC-ND\n",
    "</br>\n",
    "\n",
    "Public data set: using ds004386\n",
    "This is acquired from Open Neuro, going over FAIR\n",
    "FINDABLE\n",
    "In comparison to other database servers, looking for this database was VERY easy. The search has options to edit filters like participants \n",
    "ACCESIBLE\n",
    "It has a link to github, so cloning the github repository will copy all the 40+ documents but it will not download the images (that requires git annex)\n",
    "INTEROPERABLE\n",
    "Data is well structured, we have changes and readme files as well as participant csv's with phenotipic information of every patient. It does not have a license file\n",
    "RE-USABLE\n",
    "It has re-usable data as we have the nii.gz. files from both anatomy and functional from all the patients (with some exceptions clearly specified in the github repo)\n",
    "This means we can use any of both of the documents and use it for transverse examinations\n",
    "\n",
    "</br>\n",
    "\n",
    "Example of neuroimaging paper:\n",
    "https://www.sciencedirect.com/science/article/pii/S0896627308009586\n",
    "This paper from nilearn website HAS acces to code on jupyter notebook as well as some information for data analysis and a reference to another paper to understand a the reconstruction from the visual stimuli.\n"
   ]
  }
 ],
 "metadata": {
  "kernelspec": {
   "display_name": "Python 3 (ipykernel)",
   "language": "python",
   "name": "python3"
  },
  "language_info": {
   "codemirror_mode": {
    "name": "ipython",
    "version": 3
   },
   "file_extension": ".py",
   "mimetype": "text/x-python",
   "name": "python",
   "nbconvert_exporter": "python",
   "pygments_lexer": "ipython3",
   "version": "3.12.3"
  }
 },
 "nbformat": 4,
 "nbformat_minor": 5
}
